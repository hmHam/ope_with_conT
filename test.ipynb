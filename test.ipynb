{
 "cells": [
  {
   "cell_type": "code",
   "execution_count": 2,
   "id": "c46fe013-e733-46bf-bb22-71574ff96473",
   "metadata": {},
   "outputs": [
    {
     "data": {
      "text/plain": [
       "True"
      ]
     },
     "execution_count": 2,
     "metadata": {},
     "output_type": "execute_result"
    }
   ],
   "source": [
    "import torch\n",
    "torch.cuda.is_available()"
   ]
  },
  {
   "cell_type": "markdown",
   "id": "1e3fb00a-34ce-4eef-bd94-eb707ba0628e",
   "metadata": {},
   "source": [
    "### 数値微分"
   ]
  },
  {
   "cell_type": "code",
   "execution_count": 4,
   "id": "1a30bf9a-eda9-4fb1-9c9c-5172b2578418",
   "metadata": {},
   "outputs": [
    {
     "data": {
      "image/png": "[encoded data removed]",
      "text/plain": [
       "<Figure size 432x288 with 1 Axes>"
      ]
     },
     "metadata": {
      "needs_background": "light"
     },
     "output_type": "display_data"
    }
   ],
   "source": [
    "from matplotlib import pyplot as plt\n",
    "import numpy as np\n",
    "f = lambda x: x**2\n",
    "N = 1000\n",
    "x = np.linspace(-10, 10, N)\n",
    "dx = 20/N\n",
    "y = f(x)\n",
    "dy = np.gradient(y, dx)\n",
    "dy2 = np.gradient(dy, dx)\n",
    "\n",
    "# x y\n",
    "plt.plot(x, y, color='red', label='f(x)')\n",
    "plt.plot(x, dy, color='blue', label=\"f(x)'\")\n",
    "plt.plot(x, dy2, color='purple', label=\"f(x)''\")\n",
    "plt.legend(loc='best')\n",
    "plt.show()"
   ]
  },
  {
   "cell_type": "markdown",
   "id": "245315e6-bd1b-4078-a9b8-48f171085939",
   "metadata": {},
   "source": [
    "### pandas groupby"
   ]
  },
  {
   "cell_type": "code",
   "execution_count": 6,
   "id": "c8f38d71-f1c5-4e40-8e98-5e665f6bcaea",
   "metadata": {},
   "outputs": [
    {
     "data": {
      "text/html": [
       "<div>\n",
       "<style scoped>\n",
       "    .dataframe tbody tr th:only-of-type {\n",
       "        vertical-align: middle;\n",
       "    }\n",
       "\n",
       "    .dataframe tbody tr th {\n",
       "        vertical-align: top;\n",
       "    }\n",
       "\n",
       "    .dataframe thead th {\n",
       "        text-align: right;\n",
       "    }\n",
       "</style>\n",
       "<table border=\"1\" class=\"dataframe\">\n",
       "  <thead>\n",
       "    <tr style=\"text-align: right;\">\n",
       "      <th></th>\n",
       "      <th></th>\n",
       "      <th>a1</th>\n",
       "      <th>a2</th>\n",
       "      <th>a3</th>\n",
       "    </tr>\n",
       "    <tr>\n",
       "      <th>a2</th>\n",
       "      <th>a3</th>\n",
       "      <th></th>\n",
       "      <th></th>\n",
       "      <th></th>\n",
       "    </tr>\n",
       "  </thead>\n",
       "  <tbody>\n",
       "    <tr>\n",
       "      <th>0</th>\n",
       "      <th>1</th>\n",
       "      <td>5</td>\n",
       "      <td>0</td>\n",
       "      <td>5</td>\n",
       "    </tr>\n",
       "    <tr>\n",
       "      <th>1</th>\n",
       "      <th>2</th>\n",
       "      <td>20</td>\n",
       "      <td>5</td>\n",
       "      <td>20</td>\n",
       "    </tr>\n",
       "  </tbody>\n",
       "</table>\n",
       "</div>"
      ],
      "text/plain": [
       "       a1  a2  a3\n",
       "a2 a3            \n",
       "0  1    5   0   5\n",
       "1  2   20   5  20"
      ]
     },
     "execution_count": 6,
     "metadata": {},
     "output_type": "execute_result"
    }
   ],
   "source": [
    "import numpy as np\n",
    "import pandas as pd\n",
    "a1 = np.array([1] * 5 + [2] * 5).reshape(-1, 1)\n",
    "a2 = np.array([0] * 5 + [1] * 5).reshape(-1, 1)\n",
    "a3 = np.array([1] * 5 + [2] * 5).reshape(-1, 1)\n",
    "df_test = pd.DataFrame(np.hstack([a1, a2, a3]), columns=['a1', 'a2', 'a3'])\n",
    "df_test.groupby(['a2', 'a3']).apply(lambda x: (x**2).sum())"
   ]
  },
  {
   "cell_type": "markdown",
   "id": "9fdecb47-950b-4d4e-9f09-964b1fee0d40",
   "metadata": {
    "tags": []
   },
   "source": [
    "### 多項式回帰"
   ]
  },
  {
   "cell_type": "code",
   "execution_count": 3,
   "id": "e2c351d2-a39b-4ff4-aaa1-d8c2e43d0dae",
   "metadata": {},
   "outputs": [
    {
     "name": "stdout",
     "output_type": "stream",
     "text": [
      "rmse : 12.91705658510487\n",
      "R2 : 0.8838261181927397\n"
     ]
    },
    {
     "data": {
      "image/png": "[encoded data removed]",
      "text/plain": [
       "<Figure size 432x288 with 1 Axes>"
      ]
     },
     "metadata": {
      "needs_background": "light"
     },
     "output_type": "display_data"
    }
   ],
   "source": [
    "import numpy as np\n",
    "from matplotlib import pyplot as plt\n",
    "from sklearn.metrics import mean_squared_error, r2_score\n",
    "from sklearn.preprocessing import PolynomialFeatures\n",
    "from sklearn.linear_model import LinearRegression\n",
    "\n",
    "x = np.linspace(-5, 5, 20)\n",
    "y = 2 * x - 2 * (x ** 2) + 0.5 * (x ** 3) + np.random.normal(loc=0, scale=10, size=len(x))\n",
    " \n",
    "# [a,b,c,..] to [[a], [b], [c]]\n",
    "x = x[:, np.newaxis]\n",
    "y = y[:, np.newaxis]\n",
    "\n",
    "# 2次元の特徴量に変換\n",
    "polynomial_features= PolynomialFeatures(degree=2)\n",
    "x_poly = polynomial_features.fit_transform(x)\n",
    " \n",
    "# y = b0 + b1x + b2x^2 の b0～b2 を算出\n",
    "model = LinearRegression()\n",
    "model.fit(x_poly, y)\n",
    "y_pred = model.predict(x_poly)\n",
    " \n",
    "# 評価\n",
    "rmse = np.sqrt(mean_squared_error(y, y_pred))\n",
    "r2 = r2_score(y, y_pred)\n",
    "print(f'rmse : {rmse}')\n",
    "print(f'R2 : {r2}')\n",
    " \n",
    "# 可視化\n",
    "plt.scatter(x, y)\n",
    "plt.plot(x, y_pred, color='r')\n",
    "plt.show()"
   ]
  },
  {
   "cell_type": "markdown",
   "id": "d226d831-62e3-4617-b75f-d6f81e00691f",
   "metadata": {},
   "source": [
    "### Scipy stats uniform"
   ]
  },
  {
   "cell_type": "code",
   "execution_count": 5,
   "id": "fc57bdb0-c1ac-40fc-b9c6-3f5780a759fb",
   "metadata": {},
   "outputs": [
    {
     "data": {
      "text/plain": [
       "[<matplotlib.lines.Line2D at 0x7fb916891dc0>]"
      ]
     },
     "execution_count": 5,
     "metadata": {},
     "output_type": "execute_result"
    },
    {
     "data": {
      "image/png": "[encoded data removed]",
      "text/plain": [
       "<Figure size 432x288 with 1 Axes>"
      ]
     },
     "metadata": {
      "needs_background": "light"
     },
     "output_type": "display_data"
    }
   ],
   "source": [
    "from scipy.stats import uniform\n",
    "\n",
    "x = np.linspace(-2, 2, 1000)\n",
    "# Uniform[-0.5, 1.3]\n",
    "y = uniform.pdf(x, loc=-0.5, scale=1.8)\n",
    "\n",
    "plt.plot(x, y)"
   ]
  },
  {
   "cell_type": "code",
   "execution_count": null,
   "id": "a047a5c4-9afc-4f28-a61c-5cf4d302defc",
   "metadata": {},
   "outputs": [],
   "source": []
  }
 ],
 "metadata": {
  "kernelspec": {
   "display_name": "Python 3 (ipykernel)",
   "language": "python",
   "name": "python3"
  },
  "language_info": {
   "codemirror_mode": {
    "name": "ipython",
    "version": 3
   },
   "file_extension": ".py",
   "mimetype": "text/x-python",
   "name": "python",
   "nbconvert_exporter": "python",
   "pygments_lexer": "ipython3",
   "version": "3.9.7"
  }
 },
 "nbformat": 4,
 "nbformat_minor": 5
}
