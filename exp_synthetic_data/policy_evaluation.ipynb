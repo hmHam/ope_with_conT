{
 "cells": [
  {
   "cell_type": "markdown",
   "id": "a923b01f-1068-441d-89c5-d8f6e166b83d",
   "metadata": {
    "tags": []
   },
   "source": [
    "### 目的\n",
    "* Kallus et al., 2018のOPEの実験を再現すること\n",
    "\n",
    "### Task\n",
    "- [ ] 人工的な観測データを生成する。\n",
    "- [ ] 論文で指定してあるbehavior policy, target policyを実装する。\n",
    "- [ ] estimatorを実装して評価する。\n",
    "- [ ] Open Bandit Pipelineで比較する既存手法を実装して評価する。\n",
    "- [ ] Continuous OPEと既存手法の結果を視覚的に比較する。Fig(matplotlib), Table(pandas)を作成する。"
   ]
  },
  {
   "cell_type": "code",
   "execution_count": 13,
   "id": "616a6866-d16d-49a3-be34-5d29bb80d116",
   "metadata": {},
   "outputs": [],
   "source": [
    "import numpy as np\n",
    "import pandas as pd\n",
    "from matplotlib import pyplot as plt\n",
    "from sklearn.neighbors import KernelDensity\n",
    "from scipy import stats, integrate"
   ]
  },
  {
   "cell_type": "code",
   "execution_count": 2,
   "id": "615e6a4d-133b-47ba-809c-29c866ea299e",
   "metadata": {},
   "outputs": [],
   "source": [
    "# Section5.1のOPE用データ生成\n",
    "# (x, t, y)\n",
    "def gen(n, seed=0):\n",
    "    '''\n",
    "    n: データ数\n",
    "    '''\n",
    "    # NOTE: 縦ベクトルで返す\n",
    "    np.random.seed(seed)\n",
    "    x = np.random.uniform(low=0, high=1, size=(n, 1))\n",
    "    t = x + 0.1 + 0.5 * np.random.randn(n, 1)\n",
    "    epsilon = np.random.randn(n, 1)\n",
    "    y = 2 * np.power(np.abs(x - t), 1.5) + 0.2 * epsilon\n",
    "    return (x, t, y)"
   ]
  },
  {
   "cell_type": "code",
   "execution_count": 3,
   "id": "86b6bada-bece-4abe-94a6-9301c30b99a3",
   "metadata": {},
   "outputs": [],
   "source": [
    "# \\pi(x) = \\beta * x\n",
    "def target_policy(x):\n",
    "    beta = 1\n",
    "    return beta * x\n",
    "\n",
    "def behavior_policy(t, x):\n",
    "    # T|X ~ N(x + 0.1, 0.5)\n",
    "    return stats.norm.pdf(t, loc=x + 0.1, scale=0.5)"
   ]
  },
  {
   "cell_type": "markdown",
   "id": "8a43b0f1-fee9-49bd-9655-614767a1a8d0",
   "metadata": {},
   "source": [
    "### Epanechnikov kernelの$\\kappa_2(K)$および$R(K)$"
   ]
  },
  {
   "cell_type": "markdown",
   "id": "60e03389-222f-421e-bdb2-791c908eef72",
   "metadata": {},
   "source": [
    "* この論文ではEpanechnikov kernelは$K(u) = \\frac{3}{4} (1 - u^2) \\mathbb{I}\\{\\|u \\| \\le 1\\}$となっている。"
   ]
  },
  {
   "cell_type": "markdown",
   "id": "7e356383-8d77-4548-b686-b8bb62ff9089",
   "metadata": {},
   "source": [
    "* なので、second moment$\\kappa_2(K) = \\int u^2 K(u) du$は、$\\int u^2 K(u) du = \\left[\\frac{3}{4}(x^5/5 - 2x^3/3 + x\\right]_{-1}^{1} = \\frac{3}{4}\\frac{16}{15} = \\frac{4}{5}$"
   ]
  },
  {
   "cell_type": "markdown",
   "id": "3859dc29-ec95-4771-9c17-afbe6c5f2821",
   "metadata": {},
   "source": [
    "* さらに、roughness$R(K) = \\int K(u)^2du$は、$\\int K(u)^2 du = \\frac{9}{16} \\left[ x^3/3 - x^5/5 \\right]_{-1}^1 = \\frac{9}{16} \\frac{4}{15} = \\frac{3}{20}$"
   ]
  },
  {
   "cell_type": "markdown",
   "id": "29317be0-8e8f-4d20-aedc-8fc78374f0a4",
   "metadata": {},
   "source": [
    "* よって、実験のoptimal bandwidthの算出にはこの数値を利用する。\n",
    "* 計算には、[このツール](https://ja.wolframalpha.com/input/?i=%E7%A9%8D%E5%88%86%E8%A8%88%E7%AE%97)を利用した。"
   ]
  },
  {
   "cell_type": "markdown",
   "id": "d01f4a04-2ce1-44e5-a78d-bf5234405aec",
   "metadata": {
    "tags": []
   },
   "source": [
    "### Optimal Bandwidth\n",
    "* section3.2のTheorem2を利用する。"
   ]
  },
  {
   "cell_type": "markdown",
   "id": "dd0c91bf-1135-4914-8fd5-c1f3b91e0683",
   "metadata": {},
   "source": [
    "$\n",
    "h^{*} = \\left(\n",
    "    \\frac{\n",
    "        R(K) \\mathbb{E}\\left[\\mathbb{E}[Y^2|\\tau(X), X]/f_{T|X}(\\tau(X), X)\\right]\n",
    "    }{\n",
    "        4 \\left(\n",
    "            \\mathbb{E} \\left[ \\int \\frac{y_i}{2} \\frac{\\partial}{\\partial T^2} f_{Y|T, x}(y_i, \\tau(x_i)) \\kappa_2(K) dy \\right]\n",
    "        \\right)^2 n\n",
    "    }\n",
    "\\right)^{\\frac{1}{5}}\n",
    "$"
   ]
  },
  {
   "cell_type": "markdown",
   "id": "12cf9a2f-aed5-4394-8577-0fffa62c7d53",
   "metadata": {},
   "source": [
    "* section5.1によれば、2次の微分係数や積分は数値微分, 数値積分を用いる。ここでは、numpy.gradient(y, dx), scipy.integrate.simps(y, x)を利用する。\n",
    "    * [scipy.integrate.simps](https://qiita.com/sci_Haru/items/09279cf81b9b073afa1d)"
   ]
  },
  {
   "cell_type": "markdown",
   "id": "5ca2cb15-9b72-4b65-a85d-14e38212113b",
   "metadata": {},
   "source": [
    "* $E[Y^2|\\pi(x), X]$は生成したデータのうち、$T = \\pi(X)$が成り立つサンプルの2"
   ]
  },
  {
   "cell_type": "markdown",
   "id": "97b03c0a-a4ba-4eea-aa09-36a89c005bd6",
   "metadata": {},
   "source": [
    "* $f_{Y|T, x}(y_i, \\pi(x_i))$, $f_{T|X}(\\pi(X), X)$が謎？"
   ]
  },
  {
   "cell_type": "code",
   "execution_count": 21,
   "id": "b8be2d1e-010e-411e-baa0-fb10864a81dd",
   "metadata": {},
   "outputs": [],
   "source": [
    "# epanechnikov kernelの2次モーメントとRoughness\n",
    "R_K = 3/20\n",
    "KAPPA2_K = 4/5"
   ]
  },
  {
   "cell_type": "code",
   "execution_count": 5,
   "id": "8d2645a8-1dfd-4286-8ab5-b94b860af4c9",
   "metadata": {},
   "outputs": [],
   "source": [
    "# n = 10の場合のoptimal bandwidthを求める。\n",
    "n = 10\n",
    "X, T, Y = gen(n)\n",
    "piX = target_policy(X)  # ターゲット方策を用いた場合の介入\\pi(X)"
   ]
  },
  {
   "cell_type": "code",
   "execution_count": 6,
   "id": "1abdb6a2-2f55-47b7-ae0f-29d711002f66",
   "metadata": {},
   "outputs": [],
   "source": [
    "# E[Y|\\pi(X), X]を近似 50回のreplicationで期待値を禁じ\n",
    "df = pd.DataFrame(np.hstack([X, T, Y, piX]), columns=['X', 'T', 'Y', 'piX'])\n",
    "E_Y2 = df.groupby(['X', 'piX'])['Y'].apply(lambda x: (x**2).sum()).to_numpy()\n",
    "\n",
    "f_T_on_X = behavior_policy(piX, X)\n",
    "\n",
    "numerator = R_K * np.mean(E_Y2 / f_T_on_X)"
   ]
  },
  {
   "cell_type": "code",
   "execution_count": 7,
   "id": "bc741906-5bb2-413a-a342-b6689c7d89d6",
   "metadata": {},
   "outputs": [],
   "source": [
    "# f_{Y|T, X}を求める。\n",
    "# 分子 pdf\n",
    "YTX = np.hstack([Y, T, X])\n",
    "joint_density_YTX = KernelDensity(kernel='epanechnikov', bandwidth=1).fit(YTX)\n",
    "# 分母 pdf\n",
    "TX = np.hstack([T, X])\n",
    "density_TX = KernelDensity(kernel='epanechnikov', bandwidth=1).fit(TX)\n",
    "\n",
    "# Y|T, X pdf\n",
    "YpiXX = np.hstack([Y, piX, X])\n",
    "piXX = np.hstack([piX, X])\n",
    "conditional_density_Y_on_piXX = joint_density_YTX.score_samples(YpiXX) / density_TX.score_samples(piXX)\n",
    "\n",
    "# 数値微分\n",
    "dt = 1e-7 # 適当\n",
    "partial_f_partial_T = np.gradient(conditional_density_Y_on_piXX, dt)\n",
    "partial_f_partial_T2 = np.gradient(partial_f_partial_T, dt)\n",
    "\n",
    "# 数値積分\n",
    "integral_y = integrate.simps(Y[:, 0] * partial_f_partial_T2 * KAPPA2_K / 2, Y[:, 0])\n",
    "\n",
    "denominator = 4 * integral_y**2 * n"
   ]
  },
  {
   "cell_type": "code",
   "execution_count": 8,
   "id": "aee053cb-d2c4-4bb4-95a8-7be805c7366d",
   "metadata": {},
   "outputs": [
    {
     "data": {
      "text/plain": [
       "4.685401611715447e-05"
      ]
     },
     "execution_count": 8,
     "metadata": {},
     "output_type": "execute_result"
    }
   ],
   "source": [
    "n0_optimal_bandwidth = np.power(numerator / denominator, 1/5)\n",
    "n0_optimal_bandwidth"
   ]
  },
  {
   "cell_type": "code",
   "execution_count": 15,
   "id": "43ae5f41-c825-471c-a541-6b229fc18888",
   "metadata": {},
   "outputs": [],
   "source": [
    "R = 50\n",
    "\n",
    "def kernel_epanechnikov(u):\n",
    "    return np.where(np.abs(u) <= 1, 3 * (1 - u**2) / 4, 0)\n",
    "\n",
    "results_list = []\n",
    "n_samples = range(10, 310, 10)\n",
    "for n in n_samples:\n",
    "    v_hat_list = []\n",
    "    for seed in range(R):\n",
    "        X, T, Y = gen(n, seed=seed)\n",
    "        piX = target_policy(X)\n",
    "    \n",
    "        h = n0_optimal_bandwidth * np.power(10/n, 1/5)\n",
    "\n",
    "        Q = behavior_policy(T, X)\n",
    "    \n",
    "        v_hat = np.mean(kernel_epanechnikov((piX - T) / h) * Y / Q) / h\n",
    "        v_hat_list.append(v_hat)\n",
    "    v_hat_array = np.array(v_hat_list)\n",
    "    v_mean = v_hat_array.mean()\n",
    "    v_std = v_hat_array.std()\n",
    "    results_list.append([v_mean, v_std])\n",
    "results_array = np.array(results_list)"
   ]
  },
  {
   "cell_type": "code",
   "execution_count": 20,
   "id": "8b82a32a-8aa1-489e-ba3e-33d51300746e",
   "metadata": {},
   "outputs": [
    {
     "data": {
      "image/png": "[encoded data removed]",
      "text/plain": [
       "<Figure size 432x288 with 1 Axes>"
      ]
     },
     "metadata": {
      "needs_background": "light"
     },
     "output_type": "display_data"
    }
   ],
   "source": [
    "plt.title('Figure1')\n",
    "# TODO: matplotlibでのcolorの表示の仕方\n",
    "plt.plot(n_samples, results_array[:, 0], color='red', label='continuous OPE')\n",
    "plt.legend()\n",
    "plt.show()"
   ]
  },
  {
   "cell_type": "code",
   "execution_count": null,
   "id": "138c86ad-d47c-497f-9071-8249061d98f5",
   "metadata": {},
   "outputs": [],
   "source": []
  }
 ],
 "metadata": {
  "kernelspec": {
   "display_name": "Python 3 (ipykernel)",
   "language": "python",
   "name": "python3"
  },
  "language_info": {
   "codemirror_mode": {
    "name": "ipython",
    "version": 3
   },
   "file_extension": ".py",
   "mimetype": "text/x-python",
   "name": "python",
   "nbconvert_exporter": "python",
   "pygments_lexer": "ipython3",
   "version": "3.9.7"
  }
 },
 "nbformat": 4,
 "nbformat_minor": 5
}
